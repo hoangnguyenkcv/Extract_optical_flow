{
 "cells": [
  {
   "cell_type": "code",
   "execution_count": 1,
   "metadata": {
    "collapsed": false
   },
   "outputs": [
    {
     "name": "stderr",
     "output_type": "stream",
     "text": [
      "Using TensorFlow backend.\n"
     ]
    }
   ],
   "source": [
    "import os\n",
    "import pandas as pd\n",
    "import numpy as np\n",
    "import random\n",
    "from keras.utils import to_categorical\n",
    "from keras.preprocessing.image import img_to_array, load_img\n",
    "import cv2\n",
    "import glob\n",
    "import sys"
   ]
  },
  {
   "cell_type": "code",
   "execution_count": 2,
   "metadata": {
    "collapsed": false
   },
   "outputs": [],
   "source": [
    "# path = '20bn_jester'\n",
    "# frame_files = os.listdir(path)\n",
    "# print(frame_files) \n",
    "# # add sorted, so we can recognize the currect sequence\n",
    "# frame_files = sorted(frame_files)\n",
    "# print(frame_files)\n",
    "\n"
   ]
  },
  {
   "cell_type": "code",
   "execution_count": 3,
   "metadata": {
    "collapsed": false
   },
   "outputs": [],
   "source": [
    "# frame_paths = [os.path.join(path, f) for f in frame_files]\n",
    "# for frame_path in frame_paths:\n",
    "#     # Load image into numpy array and preprocess it\n",
    "#     print(frame_path)\n",
    "#     frame_name = os.listdir(frame_path)\n",
    "#     print(frame_name)\n",
    "#     for frame in frame_name:\n",
    "#         for ind in video_dir: \n",
    "#         print(p)"
   ]
  },
  {
   "cell_type": "code",
   "execution_count": null,
   "metadata": {
    "collapsed": false
   },
   "outputs": [],
   "source": [
    "# input_path = '20bn_jester'\n",
    "# output_path = 'flow_output'\n",
    "# video_dir = os.listdir(input_path)\n",
    "# #print(video_dir)\n",
    "# for ind in video_dir: \n",
    "#     vid_dir = os.path.join(input_path, ind)\n",
    "# #    print(vid_dir)\n",
    "#     save_dir = os.path.join(output_path, ind)\n",
    "# #    print(save_dir)"
   ]
  },
  {
   "cell_type": "code",
   "execution_count": null,
   "metadata": {
    "collapsed": false
   },
   "outputs": [
    {
     "name": "stdout",
     "output_type": "stream",
     "text": [
      "Processing ..\\20bn-datasets\\20bn-jester-v1\\1: 37 files... \n",
      "Processing ..\\20bn-datasets\\20bn-jester-v1\\10: 35 files... \n",
      "Processing ..\\20bn-datasets\\20bn-jester-v1\\100: 37 files... \n",
      "Processing ..\\20bn-datasets\\20bn-jester-v1\\1000: 37 files... \n",
      "Processing ..\\20bn-datasets\\20bn-jester-v1\\10000: 37 files... \n",
      "Processing ..\\20bn-datasets\\20bn-jester-v1\\100000: 35 files... \n",
      "Processing ..\\20bn-datasets\\20bn-jester-v1\\100001: 37 files... \n",
      "Processing ..\\20bn-datasets\\20bn-jester-v1\\100002: 34 files... \n",
      "Processing ..\\20bn-datasets\\20bn-jester-v1\\100003: 35 files... \n",
      "Processing ..\\20bn-datasets\\20bn-jester-v1\\100004: 32 files... \n",
      "Processing ..\\20bn-datasets\\20bn-jester-v1\\100005: 36 files... \n",
      "Processing ..\\20bn-datasets\\20bn-jester-v1\\100006: 38 files... \n",
      "Processing ..\\20bn-datasets\\20bn-jester-v1\\100007: 36 files... \n",
      "Processing ..\\20bn-datasets\\20bn-jester-v1\\100008: 36 files... \n",
      "Processing ..\\20bn-datasets\\20bn-jester-v1\\100009: 38 files... \n",
      "Processing ..\\20bn-datasets\\20bn-jester-v1\\10001: 33 files... \n",
      "Processing ..\\20bn-datasets\\20bn-jester-v1\\100010: 37 files... \n",
      "Processing ..\\20bn-datasets\\20bn-jester-v1\\100011: 37 files... \n",
      "Processing ..\\20bn-datasets\\20bn-jester-v1\\100012: 36 files... \n",
      "Processing ..\\20bn-datasets\\20bn-jester-v1\\100013: 36 files... \n",
      "Processing ..\\20bn-datasets\\20bn-jester-v1\\100014: 28 files... \n",
      "Processing ..\\20bn-datasets\\20bn-jester-v1\\100015: 37 files... \n",
      "Processing ..\\20bn-datasets\\20bn-jester-v1\\100016: 36 files... \n",
      "Processing ..\\20bn-datasets\\20bn-jester-v1\\100017: 34 files... \n",
      "Processing ..\\20bn-datasets\\20bn-jester-v1\\100018: 34 files... \n",
      "Processing ..\\20bn-datasets\\20bn-jester-v1\\100019: 37 files... \n",
      "Processing ..\\20bn-datasets\\20bn-jester-v1\\10002: 37 files... \n",
      "Processing ..\\20bn-datasets\\20bn-jester-v1\\100020: 36 files... \n",
      "Processing ..\\20bn-datasets\\20bn-jester-v1\\100021: 36 files... \n",
      "Processing ..\\20bn-datasets\\20bn-jester-v1\\100022: 36 files... \n",
      "Processing ..\\20bn-datasets\\20bn-jester-v1\\100023: 23 files... \n",
      "Processing ..\\20bn-datasets\\20bn-jester-v1\\100024: 36 files... \n",
      "Processing ..\\20bn-datasets\\20bn-jester-v1\\100025: 36 files... \n",
      "Processing ..\\20bn-datasets\\20bn-jester-v1\\100026: 36 files... \n",
      "Processing ..\\20bn-datasets\\20bn-jester-v1\\100027: 37 files... \n",
      "Processing ..\\20bn-datasets\\20bn-jester-v1\\100028: 36 files... \n",
      "Processing ..\\20bn-datasets\\20bn-jester-v1\\100029: 36 files... \n",
      "Processing ..\\20bn-datasets\\20bn-jester-v1\\10003: 37 files... \n",
      "Processing ..\\20bn-datasets\\20bn-jester-v1\\100030: 37 files... \n",
      "Processing ..\\20bn-datasets\\20bn-jester-v1\\100031: 37 files... \n",
      "Processing ..\\20bn-datasets\\20bn-jester-v1\\100032: 30 files... \n",
      "Processing ..\\20bn-datasets\\20bn-jester-v1\\100033: 35 files... \n",
      "Processing ..\\20bn-datasets\\20bn-jester-v1\\100034: 37 files... \n",
      "Processing ..\\20bn-datasets\\20bn-jester-v1\\100035: 34 files... \n",
      "Processing ..\\20bn-datasets\\20bn-jester-v1\\100036: 36 files... \n",
      "Processing ..\\20bn-datasets\\20bn-jester-v1\\100037: 32 files... \n",
      "Processing ..\\20bn-datasets\\20bn-jester-v1\\100038: 37 files... \n",
      "Processing ..\\20bn-datasets\\20bn-jester-v1\\100039: 37 files... \n",
      "Processing ..\\20bn-datasets\\20bn-jester-v1\\10004: 33 files... \n",
      "Processing ..\\20bn-datasets\\20bn-jester-v1\\100040: 37 files... \n",
      "Processing ..\\20bn-datasets\\20bn-jester-v1\\100041: 35 files... \n",
      "Processing ..\\20bn-datasets\\20bn-jester-v1\\100042: 35 files... \n",
      "Processing ..\\20bn-datasets\\20bn-jester-v1\\100043: 37 files... \n",
      "Processing ..\\20bn-datasets\\20bn-jester-v1\\100044: 37 files... \n",
      "Processing ..\\20bn-datasets\\20bn-jester-v1\\100045: 36 files... \n",
      "Processing ..\\20bn-datasets\\20bn-jester-v1\\100046: 38 files... \n",
      "Processing ..\\20bn-datasets\\20bn-jester-v1\\100047: 37 files... \n",
      "Processing ..\\20bn-datasets\\20bn-jester-v1\\100048: 37 files... \n",
      "Processing ..\\20bn-datasets\\20bn-jester-v1\\100049: 35 files... \n",
      "Processing ..\\20bn-datasets\\20bn-jester-v1\\10005: 37 files... \n",
      "Processing ..\\20bn-datasets\\20bn-jester-v1\\100050: 37 files... \n",
      "Processing ..\\20bn-datasets\\20bn-jester-v1\\100051: 37 files... \n",
      "Processing ..\\20bn-datasets\\20bn-jester-v1\\100052: 35 files... \n",
      "Processing ..\\20bn-datasets\\20bn-jester-v1\\100053: 37 files... \n"
     ]
    }
   ],
   "source": [
    "input_path = '..\\\\20bn-datasets\\\\20bn-jester-v1'\n",
    "output_path = '..\\\\20bn-datasets\\\\20bn-jester-opt-v1'\n",
    "video_dir = os.listdir(input_path)\n",
    "#print(video_dir)\n",
    "for ind in video_dir: \n",
    "    vid_dir = os.path.join(input_path, ind)\n",
    "#    print(vid_dir)\n",
    "    save_dir = os.path.join(output_path, ind)\n",
    "#    print(save_dir)\n",
    "    images = glob.glob(os.path.join(vid_dir,'*'))\n",
    "    print (\"Processing {}: {} files... \".format(vid_dir, len(images))),\n",
    "    sys.stdout.flush()\n",
    "\n",
    "    prvs = cv2.cvtColor(cv2.imread(images[0]),cv2.COLOR_BGR2GRAY)\n",
    "    hsv = np.zeros_like(cv2.imread(images[0]))\n",
    "    hsv[...,1] = 255\n",
    "\n",
    "    for ret, frames2 in enumerate(images):\n",
    "    #    ret, frame2 = cap.read()\n",
    "        nextf = cv2.cvtColor(cv2.imread(frames2),cv2.COLOR_BGR2GRAY)\n",
    "        flow = cv2.calcOpticalFlowFarneback(prvs,nextf, None, 0.5, 3, 15, 3, 5, 1.2, 0)\n",
    "        mag, ang = cv2.cartToPolar(flow[...,0], flow[...,1])\n",
    "        hsv[...,0] = ang*180/np.pi/2\n",
    "        hsv[...,2] = cv2.normalize(mag,None,0,255,cv2.NORM_MINMAX)\n",
    "        bgr = cv2.cvtColor(hsv,cv2.COLOR_HSV2BGR)\n",
    "    #    cv2.imshow('frame2',bgr)\n",
    "    #    cv2.waitKey(50) \n",
    "\n",
    "        basename =  os.path.splitext(os.path.basename(frames2))[0]\n",
    "        flow_name = os.path.join(save_dir, basename)\n",
    "\n",
    "        if not os.path.isdir(save_dir):\n",
    "            os.makedirs(save_dir)\n",
    "\n",
    "        cv2.imwrite(flow_name +'.png',bgr)\n",
    "        prvs = nextf\n",
    "    #cv2.destroyAllWindows()"
   ]
  }
 ],
 "metadata": {
  "anaconda-cloud": {},
  "kernelspec": {
   "display_name": "Python [conda env:Anaconda3]",
   "language": "python",
   "name": "conda-env-Anaconda3-py"
  },
  "language_info": {
   "codemirror_mode": {
    "name": "ipython",
    "version": 3
   },
   "file_extension": ".py",
   "mimetype": "text/x-python",
   "name": "python",
   "nbconvert_exporter": "python",
   "pygments_lexer": "ipython3",
   "version": "3.5.2"
  }
 },
 "nbformat": 4,
 "nbformat_minor": 1
}
